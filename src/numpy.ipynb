{
    "cells": [
        {
            "cell_type": "markdown",
            "metadata": {},
            "source": [
                "## Numpy, Pandas & Matplotlib "
            ]
        },
        {
            "cell_type": "code",
            "execution_count": 43,
            "metadata": {},
            "outputs": [],
            "source": [
                "import pandas as pd\n",
                "import numpy as np \n",
                "import matplotlib.pyplot as plt\n",
                "import pyreadr\n"
            ]
        },
        {
            "cell_type": "markdown",
            "metadata": {},
            "source": [
                "Numpy"
            ]
        },
        {
            "cell_type": "code",
            "execution_count": 16,
            "metadata": {},
            "outputs": [
                {
                    "name": "stdout",
                    "output_type": "stream",
                    "text": [
                        "[1 2 3 4 5]\n"
                    ]
                }
            ],
            "source": [
                "# crear un array numpy a partir de una lista\n",
                "arr = np.array([1, 2, 3, 4, 5])\n",
                "print(arr)"
            ]
        },
        {
            "cell_type": "code",
            "execution_count": 17,
            "metadata": {},
            "outputs": [
                {
                    "name": "stdout",
                    "output_type": "stream",
                    "text": [
                        "[[0. 0. 0.]\n",
                        " [0. 0. 0.]\n",
                        " [0. 0. 0.]]\n"
                    ]
                }
            ],
            "source": [
                "# Crear un array numpy de ceros\n",
                "zeros_arr = np.zeros((3, 3))\n",
                "print(zeros_arr)"
            ]
        },
        {
            "cell_type": "code",
            "execution_count": 18,
            "metadata": {},
            "outputs": [
                {
                    "name": "stdout",
                    "output_type": "stream",
                    "text": [
                        "[[1. 1. 1. 1.]\n",
                        " [1. 1. 1. 1.]]\n"
                    ]
                }
            ],
            "source": [
                "# Crear un array numpy de unos\n",
                "ones_arr = np.ones((2, 4))\n",
                "print(ones_arr)"
            ]
        },
        {
            "cell_type": "code",
            "execution_count": 19,
            "metadata": {},
            "outputs": [
                {
                    "name": "stdout",
                    "output_type": "stream",
                    "text": [
                        "[0 2 4 6 8]\n"
                    ]
                }
            ],
            "source": [
                "# Crear un array numpy con un rango de valores\n",
                "range_arr = np.arange(0, 10, 2)  # De 0 a 10 con paso de 2, exclusivo\n",
                "print(range_arr)\n"
            ]
        },
        {
            "cell_type": "code",
            "execution_count": 20,
            "metadata": {},
            "outputs": [
                {
                    "name": "stdout",
                    "output_type": "stream",
                    "text": [
                        "[0.   0.25 0.5  0.75 1.  ]\n"
                    ]
                }
            ],
            "source": [
                "# Crear un array numpy con valores igualmente espaciados\n",
                "linspace_arr = np.linspace(0, 1, 5)  # De 0 a 1 con 5 valores, no exclusivo\n",
                "print(linspace_arr)"
            ]
        },
        {
            "cell_type": "code",
            "execution_count": 21,
            "metadata": {},
            "outputs": [
                {
                    "name": "stdout",
                    "output_type": "stream",
                    "text": [
                        "20\n",
                        "[20 30 40]\n"
                    ]
                }
            ],
            "source": [
                "# Crear un array numpy\n",
                "arr = np.array([10, 20, 30, 40, 50])\n",
                "\n",
                "# Indexación\n",
                "print(arr[1])  # Elemento en el índice 1\n",
                "\n",
                "# Slicing\n",
                "print(arr[1:4])  # Subarray del índice 1 al 3\n"
            ]
        },
        {
            "cell_type": "code",
            "execution_count": 26,
            "metadata": {},
            "outputs": [
                {
                    "name": "stdout",
                    "output_type": "stream",
                    "text": [
                        "3.0\n",
                        "15\n",
                        "1.4142135623730951\n"
                    ]
                }
            ],
            "source": [
                "# Crear un array numpy\n",
                "arr = np.array([1, 2, 3, 4, 5])\n",
                "\n",
                "# Calcular la media\n",
                "mean_val = np.mean(arr)\n",
                "print(mean_val)\n",
                "\n",
                "# Calcular la suma\n",
                "sum_val = np.sum(arr)\n",
                "print(sum_val)\n",
                "\n",
                "# Calcular la desviación estándar\n",
                "std_val = np.std(arr)\n",
                "print(std_val)\n"
            ]
        },
        {
            "cell_type": "code",
            "execution_count": 25,
            "metadata": {},
            "outputs": [
                {
                    "name": "stdout",
                    "output_type": "stream",
                    "text": [
                        "[[1 2 3]\n",
                        " [4 5 6]]\n"
                    ]
                }
            ],
            "source": [
                "# Crear un array numpy 2D\n",
                "arr_2d = np.array([[1, 2, 3], [4, 5, 6]])\n",
                "print(arr_2d)"
            ]
        },
        {
            "cell_type": "code",
            "execution_count": 27,
            "metadata": {},
            "outputs": [
                {
                    "name": "stdout",
                    "output_type": "stream",
                    "text": [
                        "[[1 2]\n",
                        " [3 4]\n",
                        " [5 6]]\n"
                    ]
                }
            ],
            "source": [
                "# Cambiar la forma de un array\n",
                "reshaped_arr = arr_2d.reshape((3, 2))\n",
                "print(reshaped_arr)\n"
            ]
        },
        {
            "cell_type": "code",
            "execution_count": 28,
            "metadata": {},
            "outputs": [
                {
                    "name": "stdout",
                    "output_type": "stream",
                    "text": [
                        "[[1 4]\n",
                        " [2 5]\n",
                        " [3 6]]\n"
                    ]
                }
            ],
            "source": [
                "# Transponer un array\n",
                "transposed_arr = arr_2d.transpose()\n",
                "print(transposed_arr)\n"
            ]
        },
        {
            "cell_type": "code",
            "execution_count": 30,
            "metadata": {},
            "outputs": [
                {
                    "name": "stdout",
                    "output_type": "stream",
                    "text": [
                        "[[19 22]\n",
                        " [43 50]]\n"
                    ]
                }
            ],
            "source": [
                "# Crear dos matrices\n",
                "matrix1 = np.array([[1, 2], [3, 4]])\n",
                "matrix2 = np.array([[5, 6], [7, 8]])\n",
                "\n",
                "# Multiplicar matrices\n",
                "result_matrix = np.dot(matrix1, matrix2)\n",
                "print(result_matrix)\n"
            ]
        },
        {
            "cell_type": "code",
            "execution_count": 31,
            "metadata": {},
            "outputs": [
                {
                    "name": "stdout",
                    "output_type": "stream",
                    "text": [
                        "[[-2.   1. ]\n",
                        " [ 1.5 -0.5]]\n"
                    ]
                }
            ],
            "source": [
                "# Inversa de una matriz\n",
                "matrix = np.array([[1, 2], [3, 4]])\n",
                "inverse_matrix = np.linalg.inv(matrix)\n",
                "print(inverse_matrix)\n"
            ]
        },
        {
            "cell_type": "code",
            "execution_count": 32,
            "metadata": {},
            "outputs": [
                {
                    "name": "stdout",
                    "output_type": "stream",
                    "text": [
                        "-2.0000000000000004\n"
                    ]
                }
            ],
            "source": [
                "# Determinante de una matriz\n",
                "det_matrix = np.linalg.det(matrix)\n",
                "print(det_matrix)\n"
            ]
        },
        {
            "cell_type": "markdown",
            "metadata": {},
            "source": [
                "Estructuras de Datos Principales en Pandas: Series y DataFrame"
            ]
        },
        {
            "cell_type": "code",
            "execution_count": 33,
            "metadata": {},
            "outputs": [
                {
                    "name": "stdout",
                    "output_type": "stream",
                    "text": [
                        "0    1\n",
                        "1    2\n",
                        "2    3\n",
                        "3    4\n",
                        "4    5\n",
                        "dtype: int64\n"
                    ]
                }
            ],
            "source": [
                "# Crear una serie\n",
                "data = [1, 2, 3, 4, 5]\n",
                "series = pd.Series(data)\n",
                "print(series)\n"
            ]
        },
        {
            "cell_type": "code",
            "execution_count": 34,
            "metadata": {},
            "outputs": [
                {
                    "name": "stdout",
                    "output_type": "stream",
                    "text": [
                        "    Nombre  Edad       Ciudad\n",
                        "0    Alice    25     New York\n",
                        "1      Bob    30  Los Angeles\n",
                        "2  Charlie    35      Chicago\n"
                    ]
                }
            ],
            "source": [
                "# Crear un DataFrame\n",
                "data = {'Nombre': ['Alice', 'Bob', 'Charlie'],\n",
                "        'Edad': [25, 30, 35],\n",
                "        'Ciudad': ['New York', 'Los Angeles', 'Chicago']}\n",
                "df = pd.DataFrame(data)\n",
                "print(df)\n"
            ]
        },
        {
            "cell_type": "code",
            "execution_count": 36,
            "metadata": {},
            "outputs": [
                {
                    "name": "stdout",
                    "output_type": "stream",
                    "text": [
                        "a    1\n",
                        "b    2\n",
                        "c    3\n",
                        "dtype: int64\n"
                    ]
                }
            ],
            "source": [
                "# Crear una serie desde un diccionario\n",
                "data = {'a': 1, 'b': 2, 'c': 3}\n",
                "series = pd.Series(data)\n",
                "print(series)\n"
            ]
        },
        {
            "cell_type": "code",
            "execution_count": 44,
            "metadata": {},
            "outputs": [
                {
                    "name": "stdout",
                    "output_type": "stream",
                    "text": [
                        "             id                                               name   host_id  \\\n",
                        "0          2539                 Clean & quiet apt home by the park      2787   \n",
                        "1          2595                              Skylit Midtown Castle      2845   \n",
                        "2          3647                THE VILLAGE OF HARLEM....NEW YORK !      4632   \n",
                        "3          3831                    Cozy Entire Floor of Brownstone      4869   \n",
                        "4          5022   Entire Apt: Spacious Studio/Loft by central park      7192   \n",
                        "...         ...                                                ...       ...   \n",
                        "48890  36484665    Charming one bedroom - newly renovated rowhouse   8232441   \n",
                        "48891  36485057      Affordable room in Bushwick/East Williamsburg   6570630   \n",
                        "48892  36485431            Sunny Studio at Historical Neighborhood  23492952   \n",
                        "48893  36485609               43rd St. Time Square-cozy single bed  30985759   \n",
                        "48894  36487245  Trendy duplex in the very heart of Hell's Kitchen  68119814   \n",
                        "\n",
                        "           host_name neighbourhood_group       neighbourhood  latitude  \\\n",
                        "0               John            Brooklyn          Kensington  40.64749   \n",
                        "1           Jennifer           Manhattan             Midtown  40.75362   \n",
                        "2          Elisabeth           Manhattan              Harlem  40.80902   \n",
                        "3        LisaRoxanne            Brooklyn        Clinton Hill  40.68514   \n",
                        "4              Laura           Manhattan         East Harlem  40.79851   \n",
                        "...              ...                 ...                 ...       ...   \n",
                        "48890        Sabrina            Brooklyn  Bedford-Stuyvesant  40.67853   \n",
                        "48891        Marisol            Brooklyn            Bushwick  40.70184   \n",
                        "48892  Ilgar & Aysel           Manhattan              Harlem  40.81475   \n",
                        "48893            Taz           Manhattan      Hell's Kitchen  40.75751   \n",
                        "48894     Christophe           Manhattan      Hell's Kitchen  40.76404   \n",
                        "\n",
                        "       longitude        room_type  price  minimum_nights  number_of_reviews  \\\n",
                        "0      -73.97237     Private room    149               1                  9   \n",
                        "1      -73.98377  Entire home/apt    225               1                 45   \n",
                        "2      -73.94190     Private room    150               3                  0   \n",
                        "3      -73.95976  Entire home/apt     89               1                270   \n",
                        "4      -73.94399  Entire home/apt     80              10                  9   \n",
                        "...          ...              ...    ...             ...                ...   \n",
                        "48890  -73.94995     Private room     70               2                  0   \n",
                        "48891  -73.93317     Private room     40               4                  0   \n",
                        "48892  -73.94867  Entire home/apt    115              10                  0   \n",
                        "48893  -73.99112      Shared room     55               1                  0   \n",
                        "48894  -73.98933     Private room     90               7                  0   \n",
                        "\n",
                        "      last_review  reviews_per_month  calculated_host_listings_count  \\\n",
                        "0      2018-10-19               0.21                               6   \n",
                        "1      2019-05-21               0.38                               2   \n",
                        "2             NaN                NaN                               1   \n",
                        "3      2019-07-05               4.64                               1   \n",
                        "4      2018-11-19               0.10                               1   \n",
                        "...           ...                ...                             ...   \n",
                        "48890         NaN                NaN                               2   \n",
                        "48891         NaN                NaN                               2   \n",
                        "48892         NaN                NaN                               1   \n",
                        "48893         NaN                NaN                               6   \n",
                        "48894         NaN                NaN                               1   \n",
                        "\n",
                        "       availability_365  \n",
                        "0                   365  \n",
                        "1                   355  \n",
                        "2                   365  \n",
                        "3                   194  \n",
                        "4                     0  \n",
                        "...                 ...  \n",
                        "48890                 9  \n",
                        "48891                36  \n",
                        "48892                27  \n",
                        "48893                 2  \n",
                        "48894                23  \n",
                        "\n",
                        "[48895 rows x 16 columns]\n"
                    ]
                }
            ],
            "source": [
                "# Leer datos desde un archivo CSV\n",
                "df = pd.read_csv('../data/raw/Airbnb_NY.csv')\n",
                "print(df)\n"
            ]
        },
        {
            "cell_type": "code",
            "execution_count": 52,
            "metadata": {},
            "outputs": [
                {
                    "data": {
                        "text/plain": [
                            "Index(['id', 'name', 'host_id', 'host_name', 'neighbourhood_group',\n",
                            "       'neighbourhood', 'latitude', 'longitude', 'room_type', 'price',\n",
                            "       'minimum_nights', 'number_of_reviews', 'last_review',\n",
                            "       'reviews_per_month', 'calculated_host_listings_count',\n",
                            "       'availability_365'],\n",
                            "      dtype='object')"
                        ]
                    },
                    "execution_count": 52,
                    "metadata": {},
                    "output_type": "execute_result"
                }
            ],
            "source": [
                "df.columns"
            ]
        },
        {
            "cell_type": "code",
            "execution_count": null,
            "metadata": {},
            "outputs": [],
            "source": [
                "# Leer datos desde un archivo Excel\n",
                "df = pd.read_excel('datos.xlsx', sheet_name='Sheet1')\n",
                "print(df)\n"
            ]
        },
        {
            "cell_type": "code",
            "execution_count": 46,
            "metadata": {},
            "outputs": [
                {
                    "name": "stdout",
                    "output_type": "stream",
                    "text": [
                        "0                       Clean & quiet apt home by the park\n",
                        "1                                    Skylit Midtown Castle\n",
                        "2                      THE VILLAGE OF HARLEM....NEW YORK !\n",
                        "3                          Cozy Entire Floor of Brownstone\n",
                        "4         Entire Apt: Spacious Studio/Loft by central park\n",
                        "                               ...                        \n",
                        "48890      Charming one bedroom - newly renovated rowhouse\n",
                        "48891        Affordable room in Bushwick/East Williamsburg\n",
                        "48892              Sunny Studio at Historical Neighborhood\n",
                        "48893                 43rd St. Time Square-cozy single bed\n",
                        "48894    Trendy duplex in the very heart of Hell's Kitchen\n",
                        "Name: name, Length: 48895, dtype: object\n"
                    ]
                }
            ],
            "source": [
                "# Seleccionar una columna\n",
                "print(df['name'])\n"
            ]
        },
        {
            "cell_type": "code",
            "execution_count": 53,
            "metadata": {},
            "outputs": [
                {
                    "name": "stdout",
                    "output_type": "stream",
                    "text": [
                        "                                                    name  price\n",
                        "0                     Clean & quiet apt home by the park    149\n",
                        "1                                  Skylit Midtown Castle    225\n",
                        "2                    THE VILLAGE OF HARLEM....NEW YORK !    150\n",
                        "3                        Cozy Entire Floor of Brownstone     89\n",
                        "4       Entire Apt: Spacious Studio/Loft by central park     80\n",
                        "...                                                  ...    ...\n",
                        "48890    Charming one bedroom - newly renovated rowhouse     70\n",
                        "48891      Affordable room in Bushwick/East Williamsburg     40\n",
                        "48892            Sunny Studio at Historical Neighborhood    115\n",
                        "48893               43rd St. Time Square-cozy single bed     55\n",
                        "48894  Trendy duplex in the very heart of Hell's Kitchen     90\n",
                        "\n",
                        "[48895 rows x 2 columns]\n"
                    ]
                }
            ],
            "source": [
                "# Seleccionar múltiples columnas\n",
                "print(df[['name', 'price']])"
            ]
        },
        {
            "cell_type": "code",
            "execution_count": 49,
            "metadata": {},
            "outputs": [
                {
                    "name": "stdout",
                    "output_type": "stream",
                    "text": [
                        "id                                                              2539\n",
                        "name                              Clean & quiet apt home by the park\n",
                        "host_id                                                         2787\n",
                        "host_name                                                       John\n",
                        "neighbourhood_group                                         Brooklyn\n",
                        "neighbourhood                                             Kensington\n",
                        "latitude                                                    40.64749\n",
                        "longitude                                                  -73.97237\n",
                        "room_type                                               Private room\n",
                        "price                                                            149\n",
                        "minimum_nights                                                     1\n",
                        "number_of_reviews                                                  9\n",
                        "last_review                                               2018-10-19\n",
                        "reviews_per_month                                               0.21\n",
                        "calculated_host_listings_count                                     6\n",
                        "availability_365                                                 365\n",
                        "Name: 0, dtype: object\n"
                    ]
                }
            ],
            "source": [
                "# Seleccionar una fila por índice\n",
                "print(df.loc[0])\n"
            ]
        },
        {
            "cell_type": "code",
            "execution_count": 50,
            "metadata": {},
            "outputs": [
                {
                    "name": "stdout",
                    "output_type": "stream",
                    "text": [
                        "     id                                name  host_id host_name  \\\n",
                        "0  2539  Clean & quiet apt home by the park     2787      John   \n",
                        "1  2595               Skylit Midtown Castle     2845  Jennifer   \n",
                        "\n",
                        "  neighbourhood_group neighbourhood  latitude  longitude        room_type  \\\n",
                        "0            Brooklyn    Kensington  40.64749  -73.97237     Private room   \n",
                        "1           Manhattan       Midtown  40.75362  -73.98377  Entire home/apt   \n",
                        "\n",
                        "   price  minimum_nights  number_of_reviews last_review  reviews_per_month  \\\n",
                        "0    149               1                  9  2018-10-19               0.21   \n",
                        "1    225               1                 45  2019-05-21               0.38   \n",
                        "\n",
                        "   calculated_host_listings_count  availability_365  \n",
                        "0                               6               365  \n",
                        "1                               2               355  \n"
                    ]
                }
            ],
            "source": [
                "# Seleccionar múltiples filas por índice\n",
                "print(df.loc[0:1])"
            ]
        },
        {
            "cell_type": "code",
            "execution_count": 56,
            "metadata": {},
            "outputs": [
                {
                    "name": "stdout",
                    "output_type": "stream",
                    "text": [
                        "             id                                               name   host_id  \\\n",
                        "0          2539                 Clean & quiet apt home by the park      2787   \n",
                        "1          2595                              Skylit Midtown Castle      2845   \n",
                        "2          3647                THE VILLAGE OF HARLEM....NEW YORK !      4632   \n",
                        "3          3831                    Cozy Entire Floor of Brownstone      4869   \n",
                        "4          5022   Entire Apt: Spacious Studio/Loft by central park      7192   \n",
                        "...         ...                                                ...       ...   \n",
                        "48890  36484665    Charming one bedroom - newly renovated rowhouse   8232441   \n",
                        "48891  36485057      Affordable room in Bushwick/East Williamsburg   6570630   \n",
                        "48892  36485431            Sunny Studio at Historical Neighborhood  23492952   \n",
                        "48893  36485609               43rd St. Time Square-cozy single bed  30985759   \n",
                        "48894  36487245  Trendy duplex in the very heart of Hell's Kitchen  68119814   \n",
                        "\n",
                        "           host_name neighbourhood_group       neighbourhood  latitude  \\\n",
                        "0               John            Brooklyn          Kensington  40.64749   \n",
                        "1           Jennifer           Manhattan             Midtown  40.75362   \n",
                        "2          Elisabeth           Manhattan              Harlem  40.80902   \n",
                        "3        LisaRoxanne            Brooklyn        Clinton Hill  40.68514   \n",
                        "4              Laura           Manhattan         East Harlem  40.79851   \n",
                        "...              ...                 ...                 ...       ...   \n",
                        "48890        Sabrina            Brooklyn  Bedford-Stuyvesant  40.67853   \n",
                        "48891        Marisol            Brooklyn            Bushwick  40.70184   \n",
                        "48892  Ilgar & Aysel           Manhattan              Harlem  40.81475   \n",
                        "48893            Taz           Manhattan      Hell's Kitchen  40.75751   \n",
                        "48894     Christophe           Manhattan      Hell's Kitchen  40.76404   \n",
                        "\n",
                        "       longitude        room_type  price  minimum_nights  number_of_reviews  \\\n",
                        "0      -73.97237     Private room    149               1                  9   \n",
                        "1      -73.98377  Entire home/apt    225               1                 45   \n",
                        "2      -73.94190     Private room    150               3                  0   \n",
                        "3      -73.95976  Entire home/apt     89               1                270   \n",
                        "4      -73.94399  Entire home/apt     80              10                  9   \n",
                        "...          ...              ...    ...             ...                ...   \n",
                        "48890  -73.94995     Private room     70               2                  0   \n",
                        "48891  -73.93317     Private room     40               4                  0   \n",
                        "48892  -73.94867  Entire home/apt    115              10                  0   \n",
                        "48893  -73.99112      Shared room     55               1                  0   \n",
                        "48894  -73.98933     Private room     90               7                  0   \n",
                        "\n",
                        "      last_review  reviews_per_month  calculated_host_listings_count  \\\n",
                        "0      2018-10-19               0.21                               6   \n",
                        "1      2019-05-21               0.38                               2   \n",
                        "2             NaN                NaN                               1   \n",
                        "3      2019-07-05               4.64                               1   \n",
                        "4      2018-11-19               0.10                               1   \n",
                        "...           ...                ...                             ...   \n",
                        "48890         NaN                NaN                               2   \n",
                        "48891         NaN                NaN                               2   \n",
                        "48892         NaN                NaN                               1   \n",
                        "48893         NaN                NaN                               6   \n",
                        "48894         NaN                NaN                               1   \n",
                        "\n",
                        "       availability_365  \n",
                        "0                   365  \n",
                        "1                   355  \n",
                        "2                   365  \n",
                        "3                   194  \n",
                        "4                     0  \n",
                        "...                 ...  \n",
                        "48890                 9  \n",
                        "48891                36  \n",
                        "48892                27  \n",
                        "48893                 2  \n",
                        "48894                23  \n",
                        "\n",
                        "[48884 rows x 16 columns]\n"
                    ]
                }
            ],
            "source": [
                "# Filtrar filas basadas en una condición\n",
                "print(df[df['price'] > 0])\n"
            ]
        },
        {
            "cell_type": "code",
            "execution_count": 57,
            "metadata": {},
            "outputs": [
                {
                    "name": "stdout",
                    "output_type": "stream",
                    "text": [
                        "             id                                               name    host_id  \\\n",
                        "26841  21291569  Coliving in Brooklyn! Modern design / Shared room  101970559   \n",
                        "25753  20608117                    Sunny, Quiet Room in Greenpoint    1641537   \n",
                        "26866  21304320             Best Coliving space ever! Shared room.  101970559   \n",
                        "25433  20333471      ★Hostel Style Room | Ideal Traveling Buddies★  131697576   \n",
                        "26259  20933849                              the best you can find   13709292   \n",
                        "...         ...                                                ...        ...   \n",
                        "6530    4737930                                 Spanish Harlem Apt    1235070   \n",
                        "40433  31340283  2br - The Heart of NYC: Manhattans Lower East ...    4382127   \n",
                        "17692  13894339    Luxury 1 bedroom apt. -stunning Manhattan views    5143901   \n",
                        "29238  22436899                                1-BR Lincoln Center   72390391   \n",
                        "9151    7003697                Furnished room in Astoria apartment   20582832   \n",
                        "\n",
                        "      host_name neighbourhood_group    neighbourhood  latitude  longitude  \\\n",
                        "26841    Sergii            Brooklyn         Bushwick  40.69211  -73.90670   \n",
                        "25753    Lauren            Brooklyn       Greenpoint  40.72462  -73.94072   \n",
                        "26866    Sergii            Brooklyn         Bushwick  40.69166  -73.90928   \n",
                        "25433    Anisha               Bronx  East Morrisania  40.83296  -73.88668   \n",
                        "26259    Qiuchi           Manhattan      Murray Hill  40.75091  -73.97597   \n",
                        "...         ...                 ...              ...       ...        ...   \n",
                        "6530      Olson           Manhattan      East Harlem  40.79264  -73.93898   \n",
                        "40433      Matt           Manhattan  Lower East Side  40.71980  -73.98566   \n",
                        "17692      Erin            Brooklyn       Greenpoint  40.73260  -73.95739   \n",
                        "29238    Jelena           Manhattan  Upper West Side  40.77213  -73.98665   \n",
                        "9151   Kathrine              Queens          Astoria  40.76810  -73.91651   \n",
                        "\n",
                        "             room_type  price  minimum_nights  number_of_reviews last_review  \\\n",
                        "26841      Shared room      0              30                  2  2019-06-22   \n",
                        "25753     Private room      0               2                 12  2017-10-27   \n",
                        "26866      Shared room      0              30                  5  2019-05-24   \n",
                        "25433     Private room      0               2                 55  2019-06-24   \n",
                        "26259  Entire home/apt      0               3                  0         NaN   \n",
                        "...                ...    ...             ...                ...         ...   \n",
                        "6530   Entire home/apt   9999               5                  1  2015-01-02   \n",
                        "40433  Entire home/apt   9999              30                  0         NaN   \n",
                        "17692  Entire home/apt  10000               5                  5  2017-07-27   \n",
                        "29238  Entire home/apt  10000              30                  0         NaN   \n",
                        "9151      Private room  10000             100                  2  2016-02-13   \n",
                        "\n",
                        "       reviews_per_month  calculated_host_listings_count  availability_365  \n",
                        "26841               0.11                               6               333  \n",
                        "25753               0.53                               2                 0  \n",
                        "26866               0.26                               6               139  \n",
                        "25433               2.56                               4               127  \n",
                        "26259                NaN                               1                 0  \n",
                        "...                  ...                             ...               ...  \n",
                        "6530                0.02                               1                 0  \n",
                        "40433                NaN                               1               365  \n",
                        "17692               0.16                               1                 0  \n",
                        "29238                NaN                               1                83  \n",
                        "9151                0.04                               1                 0  \n",
                        "\n",
                        "[48895 rows x 16 columns]\n"
                    ]
                }
            ],
            "source": [
                "# Ordenar por una columna\n",
                "df_sorted = df.sort_values(by='price')\n",
                "print(df_sorted)\n"
            ]
        },
        {
            "cell_type": "code",
            "execution_count": 75,
            "metadata": {},
            "outputs": [
                {
                    "name": "stdout",
                    "output_type": "stream",
                    "text": [
                        "id                                    0\n",
                        "name                                 16\n",
                        "host_id                               0\n",
                        "host_name                            21\n",
                        "neighbourhood_group                   0\n",
                        "neighbourhood                         0\n",
                        "latitude                              0\n",
                        "longitude                             0\n",
                        "room_type                             0\n",
                        "price                                 0\n",
                        "minimum_nights                        0\n",
                        "number_of_reviews                     0\n",
                        "last_review                       10052\n",
                        "reviews_per_month                 10052\n",
                        "calculated_host_listings_count        0\n",
                        "availability_365                      0\n",
                        "dtype: int64\n"
                    ]
                }
            ],
            "source": [
                "# Identificar valores nulos\n",
                "print(df.isnull().sum())\n"
            ]
        },
        {
            "cell_type": "code",
            "execution_count": 76,
            "metadata": {},
            "outputs": [
                {
                    "name": "stdout",
                    "output_type": "stream",
                    "text": [
                        "             id                                              name    host_id  \\\n",
                        "0          2539                Clean & quiet apt home by the park       2787   \n",
                        "1          2595                             Skylit Midtown Castle       2845   \n",
                        "3          3831                   Cozy Entire Floor of Brownstone       4869   \n",
                        "4          5022  Entire Apt: Spacious Studio/Loft by central park       7192   \n",
                        "5          5099         Large Cozy 1 BR Apartment In Midtown East       7322   \n",
                        "...         ...                                               ...        ...   \n",
                        "48782  36425863        Lovely Privet Bedroom with Privet Restroom   83554966   \n",
                        "48790  36427429                          No.2 with queen size bed  257683179   \n",
                        "48799  36438336                                   Seas The Moment  211644523   \n",
                        "48805  36442252                     1B-1B apartment near by Metro  273841667   \n",
                        "48852  36455809           Cozy Private Room in Bushwick, Brooklyn   74162901   \n",
                        "\n",
                        "         host_name neighbourhood_group    neighbourhood  latitude  longitude  \\\n",
                        "0             John            Brooklyn       Kensington  40.64749  -73.97237   \n",
                        "1         Jennifer           Manhattan          Midtown  40.75362  -73.98377   \n",
                        "3      LisaRoxanne            Brooklyn     Clinton Hill  40.68514  -73.95976   \n",
                        "4            Laura           Manhattan      East Harlem  40.79851  -73.94399   \n",
                        "5            Chris           Manhattan      Murray Hill  40.74767  -73.97500   \n",
                        "...            ...                 ...              ...       ...        ...   \n",
                        "48782        Rusaa           Manhattan  Upper East Side  40.78099  -73.95366   \n",
                        "48790         H Ai              Queens         Flushing  40.75104  -73.81459   \n",
                        "48799          Ben       Staten Island      Great Kills  40.54179  -74.14275   \n",
                        "48805       Blaine               Bronx       Mott Haven  40.80787  -73.92400   \n",
                        "48852    Christine            Brooklyn         Bushwick  40.69805  -73.92801   \n",
                        "\n",
                        "             room_type  price  minimum_nights  number_of_reviews last_review  \\\n",
                        "0         Private room    149               1                  9  2018-10-19   \n",
                        "1      Entire home/apt    225               1                 45  2019-05-21   \n",
                        "3      Entire home/apt     89               1                270  2019-07-05   \n",
                        "4      Entire home/apt     80              10                  9  2018-11-19   \n",
                        "5      Entire home/apt    200               3                 74  2019-06-22   \n",
                        "...                ...    ...             ...                ...         ...   \n",
                        "48782     Private room    129               1                  1  2019-07-07   \n",
                        "48790     Private room     45               1                  1  2019-07-07   \n",
                        "48799     Private room    235               1                  1  2019-07-07   \n",
                        "48805  Entire home/apt    100               1                  2  2019-07-07   \n",
                        "48852     Private room     30               1                  1  2019-07-08   \n",
                        "\n",
                        "       reviews_per_month  calculated_host_listings_count  availability_365  \n",
                        "0                   0.21                               6               365  \n",
                        "1                   0.38                               2               355  \n",
                        "3                   4.64                               1               194  \n",
                        "4                   0.10                               1                 0  \n",
                        "5                   0.59                               1               129  \n",
                        "...                  ...                             ...               ...  \n",
                        "48782               1.00                               1               147  \n",
                        "48790               1.00                               6               339  \n",
                        "48799               1.00                               1                87  \n",
                        "48805               2.00                               1                40  \n",
                        "48852               1.00                               1                 1  \n",
                        "\n",
                        "[38821 rows x 16 columns]\n"
                    ]
                }
            ],
            "source": [
                "# Eliminar filas con valores nulos\n",
                "df_filled = df.dropna()\n",
                "print(df_cleaned)"
            ]
        },
        {
            "cell_type": "code",
            "execution_count": 77,
            "metadata": {},
            "outputs": [
                {
                    "name": "stdout",
                    "output_type": "stream",
                    "text": [
                        "             id                                              name    host_id  \\\n",
                        "0          2539                Clean & quiet apt home by the park       2787   \n",
                        "1          2595                             Skylit Midtown Castle       2845   \n",
                        "3          3831                   Cozy Entire Floor of Brownstone       4869   \n",
                        "4          5022  Entire Apt: Spacious Studio/Loft by central park       7192   \n",
                        "5          5099         Large Cozy 1 BR Apartment In Midtown East       7322   \n",
                        "...         ...                                               ...        ...   \n",
                        "48782  36425863        Lovely Privet Bedroom with Privet Restroom   83554966   \n",
                        "48790  36427429                          No.2 with queen size bed  257683179   \n",
                        "48799  36438336                                   Seas The Moment  211644523   \n",
                        "48805  36442252                     1B-1B apartment near by Metro  273841667   \n",
                        "48852  36455809           Cozy Private Room in Bushwick, Brooklyn   74162901   \n",
                        "\n",
                        "         host_name neighbourhood_group    neighbourhood  latitude  longitude  \\\n",
                        "0             John            Brooklyn       Kensington  40.64749  -73.97237   \n",
                        "1         Jennifer           Manhattan          Midtown  40.75362  -73.98377   \n",
                        "3      LisaRoxanne            Brooklyn     Clinton Hill  40.68514  -73.95976   \n",
                        "4            Laura           Manhattan      East Harlem  40.79851  -73.94399   \n",
                        "5            Chris           Manhattan      Murray Hill  40.74767  -73.97500   \n",
                        "...            ...                 ...              ...       ...        ...   \n",
                        "48782        Rusaa           Manhattan  Upper East Side  40.78099  -73.95366   \n",
                        "48790         H Ai              Queens         Flushing  40.75104  -73.81459   \n",
                        "48799          Ben       Staten Island      Great Kills  40.54179  -74.14275   \n",
                        "48805       Blaine               Bronx       Mott Haven  40.80787  -73.92400   \n",
                        "48852    Christine            Brooklyn         Bushwick  40.69805  -73.92801   \n",
                        "\n",
                        "             room_type  price  minimum_nights  number_of_reviews last_review  \\\n",
                        "0         Private room    149               1                  9  2018-10-19   \n",
                        "1      Entire home/apt    225               1                 45  2019-05-21   \n",
                        "3      Entire home/apt     89               1                270  2019-07-05   \n",
                        "4      Entire home/apt     80              10                  9  2018-11-19   \n",
                        "5      Entire home/apt    200               3                 74  2019-06-22   \n",
                        "...                ...    ...             ...                ...         ...   \n",
                        "48782     Private room    129               1                  1  2019-07-07   \n",
                        "48790     Private room     45               1                  1  2019-07-07   \n",
                        "48799     Private room    235               1                  1  2019-07-07   \n",
                        "48805  Entire home/apt    100               1                  2  2019-07-07   \n",
                        "48852     Private room     30               1                  1  2019-07-08   \n",
                        "\n",
                        "       reviews_per_month  calculated_host_listings_count  availability_365  \n",
                        "0                   0.21                               6               365  \n",
                        "1                   0.38                               2               355  \n",
                        "3                   4.64                               1               194  \n",
                        "4                   0.10                               1                 0  \n",
                        "5                   0.59                               1               129  \n",
                        "...                  ...                             ...               ...  \n",
                        "48782               1.00                               1               147  \n",
                        "48790               1.00                               6               339  \n",
                        "48799               1.00                               1                87  \n",
                        "48805               2.00                               1                40  \n",
                        "48852               1.00                               1                 1  \n",
                        "\n",
                        "[38821 rows x 16 columns]\n"
                    ]
                }
            ],
            "source": [
                "# Rellenar valores nulos\n",
                "df_filled = df_filled.fillna(0)\n",
                "print(df_filled)"
            ]
        },
        {
            "cell_type": "code",
            "execution_count": 79,
            "metadata": {},
            "outputs": [
                {
                    "name": "stdout",
                    "output_type": "stream",
                    "text": [
                        "             id                                               name   host_id  \\\n",
                        "0          2539                 Clean & quiet apt home by the park      2787   \n",
                        "1          2595                              Skylit Midtown Castle      2845   \n",
                        "2          3647                THE VILLAGE OF HARLEM....NEW YORK !      4632   \n",
                        "3          3831                    Cozy Entire Floor of Brownstone      4869   \n",
                        "4          5022   Entire Apt: Spacious Studio/Loft by central park      7192   \n",
                        "...         ...                                                ...       ...   \n",
                        "48890  36484665    Charming one bedroom - newly renovated rowhouse   8232441   \n",
                        "48891  36485057      Affordable room in Bushwick/East Williamsburg   6570630   \n",
                        "48892  36485431            Sunny Studio at Historical Neighborhood  23492952   \n",
                        "48893  36485609               43rd St. Time Square-cozy single bed  30985759   \n",
                        "48894  36487245  Trendy duplex in the very heart of Hell's Kitchen  68119814   \n",
                        "\n",
                        "           host_name neighbourhood_group       neighbourhood  latitude  \\\n",
                        "0               John            Brooklyn          Kensington  40.64749   \n",
                        "1           Jennifer           Manhattan             Midtown  40.75362   \n",
                        "2          Elisabeth           Manhattan              Harlem  40.80902   \n",
                        "3        LisaRoxanne            Brooklyn        Clinton Hill  40.68514   \n",
                        "4              Laura           Manhattan         East Harlem  40.79851   \n",
                        "...              ...                 ...                 ...       ...   \n",
                        "48890        Sabrina            Brooklyn  Bedford-Stuyvesant  40.67853   \n",
                        "48891        Marisol            Brooklyn            Bushwick  40.70184   \n",
                        "48892  Ilgar & Aysel           Manhattan              Harlem  40.81475   \n",
                        "48893            Taz           Manhattan      Hell's Kitchen  40.75751   \n",
                        "48894     Christophe           Manhattan      Hell's Kitchen  40.76404   \n",
                        "\n",
                        "       longitude        room_type  price  minimum_nights  number_of_reviews  \\\n",
                        "0      -73.97237     Private room  149.0               1                  9   \n",
                        "1      -73.98377  Entire home/apt  225.0               1                 45   \n",
                        "2      -73.94190     Private room  150.0               3                  0   \n",
                        "3      -73.95976  Entire home/apt   89.0               1                270   \n",
                        "4      -73.94399  Entire home/apt   80.0              10                  9   \n",
                        "...          ...              ...    ...             ...                ...   \n",
                        "48890  -73.94995     Private room   70.0               2                  0   \n",
                        "48891  -73.93317     Private room   40.0               4                  0   \n",
                        "48892  -73.94867  Entire home/apt  115.0              10                  0   \n",
                        "48893  -73.99112      Shared room   55.0               1                  0   \n",
                        "48894  -73.98933     Private room   90.0               7                  0   \n",
                        "\n",
                        "      last_review  reviews_per_month  calculated_host_listings_count  \\\n",
                        "0      2018-10-19               0.21                               6   \n",
                        "1      2019-05-21               0.38                               2   \n",
                        "2             NaN                NaN                               1   \n",
                        "3      2019-07-05               4.64                               1   \n",
                        "4      2018-11-19               0.10                               1   \n",
                        "...           ...                ...                             ...   \n",
                        "48890         NaN                NaN                               2   \n",
                        "48891         NaN                NaN                               2   \n",
                        "48892         NaN                NaN                               1   \n",
                        "48893         NaN                NaN                               6   \n",
                        "48894         NaN                NaN                               1   \n",
                        "\n",
                        "       availability_365  \n",
                        "0                   365  \n",
                        "1                   355  \n",
                        "2                   365  \n",
                        "3                   194  \n",
                        "4                     0  \n",
                        "...                 ...  \n",
                        "48890                 9  \n",
                        "48891                36  \n",
                        "48892                27  \n",
                        "48893                 2  \n",
                        "48894                23  \n",
                        "\n",
                        "[48895 rows x 16 columns]\n"
                    ]
                }
            ],
            "source": [
                "# Convertir columna a tipo de datos diferente\n",
                "df['price'] = df['price'].astype(float)\n",
                "print(df)\n"
            ]
        },
        {
            "cell_type": "code",
            "execution_count": 96,
            "metadata": {},
            "outputs": [],
            "source": [
                "df_2 = pd.DataFrame(\n",
                "    {'Animal': ['Falcon', 'Falcon','Parrot', 'Parrot'],\n",
                "    'Max Speed': [380., 370., 24., 26.]}\n",
                "    )"
            ]
        },
        {
            "cell_type": "code",
            "execution_count": 97,
            "metadata": {},
            "outputs": [
                {
                    "name": "stdout",
                    "output_type": "stream",
                    "text": [
                        "        Max Speed\n",
                        "Animal           \n",
                        "Falcon      375.0\n",
                        "Parrot       25.0\n"
                    ]
                }
            ],
            "source": [
                "# Agrupar por una columna y calcular la media\n",
                "grouped = df_2.groupby(['Animal']).mean()\n",
                "print(grouped)\n"
            ]
        },
        {
            "cell_type": "code",
            "execution_count": 84,
            "metadata": {},
            "outputs": [
                {
                    "name": "stdout",
                    "output_type": "stream",
                    "text": [
                        "Media del precio: 152.7206871868289\n",
                        "Suma de los precios: 7467278.0\n"
                    ]
                }
            ],
            "source": [
                "# Calcular la media de una columna\n",
                "mean_price = df['price'].mean()\n",
                "print(f'Media del precio: {mean_price}')\n",
                "\n",
                "# Calcular la suma de una columna\n",
                "sum_price = df['price'].sum()\n",
                "print(f'Suma de los precios: {sum_price}')\n"
            ]
        },
        {
            "cell_type": "code",
            "execution_count": 100,
            "metadata": {},
            "outputs": [
                {
                    "name": "stdout",
                    "output_type": "stream",
                    "text": [
                        "        Max Speed\n",
                        "count    4.000000\n",
                        "mean   200.000000\n",
                        "std    202.115479\n",
                        "min     24.000000\n",
                        "25%     25.500000\n",
                        "50%    198.000000\n",
                        "75%    372.500000\n",
                        "max    380.000000\n"
                    ]
                }
            ],
            "source": [
                "# Descripción estadística del DataFrame\n",
                "description = df_2.describe()\n",
                "print(description)"
            ]
        }
    ],
    "metadata": {
        "kernelspec": {
            "display_name": "Python 3.8.13 64-bit ('3.8.13')",
            "language": "python",
            "name": "python3"
        },
        "language_info": {
            "codemirror_mode": {
                "name": "ipython",
                "version": 3
            },
            "file_extension": ".py",
            "mimetype": "text/x-python",
            "name": "python",
            "nbconvert_exporter": "python",
            "pygments_lexer": "ipython3",
            "version": "3.12.3"
        },
        "orig_nbformat": 4,
        "vscode": {
            "interpreter": {
                "hash": "110cc1dee26208153f2972f08a2ad52b6a56238dc66d48e87fb757ef2996db56"
            }
        }
    },
    "nbformat": 4,
    "nbformat_minor": 2
}
