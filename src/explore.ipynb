{
    "cells": [
        {
            "cell_type": "markdown",
            "metadata": {},
            "source": [
                "## Listas"
            ]
        },
        {
            "cell_type": "code",
            "execution_count": 2,
            "metadata": {},
            "outputs": [],
            "source": [
                "my_empty_list = []  # Lista vacia\n",
                "my_list = [\"Apple\", \"Orange\", \"Donkey\"]  # La única forma de declarar una lista. Es mutable\n",
                "my_tuple = (\"Apple\", \"Orange\", \"Donkey\")  # Esto no es una lista, es una versión más limitada llamada \"Tupla\". No es mutable\n",
                "my_set = {\"Apple\", \"Orange\", \"Donkey\"}  # Esto no es una lista, es una versión más limitada llamada \"set\" (conjunto)."
            ]
        },
        {
            "cell_type": "code",
            "execution_count": 45,
            "metadata": {},
            "outputs": [
                {
                    "name": "stdout",
                    "output_type": "stream",
                    "text": [
                        "{'Orange', 'Apple', 'Donkey'}\n"
                    ]
                }
            ],
            "source": [
                "my_set = {\"Apple\", \"Orange\", \"Donkey\", \"Donkey\"} \n",
                "print(my_set)"
            ]
        },
        {
            "cell_type": "code",
            "execution_count": 7,
            "metadata": {},
            "outputs": [
                {
                    "name": "stdout",
                    "output_type": "stream",
                    "text": [
                        "conjunto:  {1, 2, 3, 4, 5}\n",
                        "lista sin duplicados:  [1, 2, 3, 4, 5]\n"
                    ]
                }
            ],
            "source": [
                "lista = [1, 2, 2, 3, 4, 4, 5]\n",
                "conjunto = set(lista)\n",
                "lista_sin_duplicados = list(conjunto)\n",
                "\n",
                "\n",
                "print('conjunto: ', conjunto)\n",
                "print('lista sin duplicados: ', lista_sin_duplicados)"
            ]
        },
        {
            "cell_type": "markdown",
            "metadata": {},
            "source": [
                "Acceder a un elemento de la lista"
            ]
        },
        {
            "cell_type": "code",
            "execution_count": 19,
            "metadata": {},
            "outputs": [
                {
                    "name": "stdout",
                    "output_type": "stream",
                    "text": [
                        "Primer elemento de la lista: Apple\n",
                        "Tercer elemento de la lista: Donkey\n",
                        "Último elemento de la lista: Donkey\n",
                        "Último elemento de la lista: Donkey\n"
                    ]
                }
            ],
            "source": [
                "my_list = [\"Apple\", \"Orange\", \"Donkey\"]\n",
                "\n",
                "print(f'Primer elemento de la lista: {my_list[0]}')  # Esto imprimirá el 1er elemento en la consola\n",
                "\n",
                "aux = my_list[2]\n",
                "print('Tercer elemento de la lista:', aux)  # Esto imprimirá el 3er elemento en la consola\n",
                "\n",
                "print('Último elemento de la lista:', my_list[len(my_list) - 1])  # Esto imprimirá el último elemento en la consola\n",
                "\n",
                "print(f'Último elemento de la lista: {my_list[-1]}')  # Tambien imprimirá el último elemento"
            ]
        },
        {
            "cell_type": "markdown",
            "metadata": {},
            "source": [
                "Agregar/actualizar elementos a una lista"
            ]
        },
        {
            "cell_type": "code",
            "execution_count": 24,
            "metadata": {},
            "outputs": [
                {
                    "data": {
                        "text/plain": [
                            "['Apple', 'Orange', 'Banana']"
                        ]
                    },
                    "execution_count": 24,
                    "metadata": {},
                    "output_type": "execute_result"
                }
            ],
            "source": [
                "my_list[2] = 'Banana'\n",
                "# Esto actualizará el valor 'Banana' en el 3er elemento de la lista\n",
                "my_list"
            ]
        },
        {
            "cell_type": "code",
            "execution_count": 26,
            "metadata": {},
            "outputs": [
                {
                    "data": {
                        "text/plain": [
                            "['Apple', 'Orange', 'Banana', 'Pear']"
                        ]
                    },
                    "execution_count": 26,
                    "metadata": {},
                    "output_type": "execute_result"
                }
            ],
            "source": [
                "my_list.append('Pear')\n",
                "# Esto agregará el valor 'Pear' secuencialmente en la lista\n",
                "my_list"
            ]
        },
        {
            "cell_type": "code",
            "execution_count": 43,
            "metadata": {},
            "outputs": [
                {
                    "name": "stdout",
                    "output_type": "stream",
                    "text": [
                        "[0, 1, 2, 3, 4]\n"
                    ]
                }
            ],
            "source": [
                "lista_0 = []\n",
                "for i in range(5):\n",
                "    lista_0.append(i)\n",
                "print(lista_0)"
            ]
        },
        {
            "cell_type": "code",
            "execution_count": 44,
            "metadata": {},
            "outputs": [
                {
                    "name": "stdout",
                    "output_type": "stream",
                    "text": [
                        "['a', 0, 1, 2, 3, 4]\n"
                    ]
                }
            ],
            "source": [
                "lista_0.insert(0, 'a')  # Inserta 'a' en la posición 0\n",
                "print(lista_0)"
            ]
        },
        {
            "cell_type": "code",
            "execution_count": 46,
            "metadata": {},
            "outputs": [
                {
                    "name": "stdout",
                    "output_type": "stream",
                    "text": [
                        "['a', 0, 1, 2, 3, 4, 5, 6, 7]\n"
                    ]
                }
            ],
            "source": [
                "lista_0.extend([5, 6, 7])\n",
                "print(lista_0)"
            ]
        },
        {
            "cell_type": "markdown",
            "metadata": {},
            "source": [
                "Eliminar elementos"
            ]
        },
        {
            "cell_type": "code",
            "execution_count": 47,
            "metadata": {},
            "outputs": [
                {
                    "name": "stdout",
                    "output_type": "stream",
                    "text": [
                        "['Pedro', 'Chris', 'Juan']\n"
                    ]
                }
            ],
            "source": [
                "names = ['Pedro', 'Chris', 'Juan', 'Maria']\n",
                "names.pop()\n",
                "print(names)"
            ]
        },
        {
            "cell_type": "code",
            "execution_count": 48,
            "metadata": {},
            "outputs": [
                {
                    "name": "stdout",
                    "output_type": "stream",
                    "text": [
                        "['Pedro', 'Juan']\n"
                    ]
                }
            ],
            "source": [
                "names.remove('Chris')\n",
                "print(names)"
            ]
        },
        {
            "cell_type": "code",
            "execution_count": 49,
            "metadata": {},
            "outputs": [
                {
                    "name": "stdout",
                    "output_type": "stream",
                    "text": [
                        "['Pedro', 'Chris', 'Mario', 'Bob']\n"
                    ]
                }
            ],
            "source": [
                "names = ['Pedro', 'Chris', 'Juan', 'Maria', 'Pepe', 'Mario', 'Bob']\n",
                "del names[2:5]\n",
                "# elimina del 2 al 4\n",
                "print(names)"
            ]
        },
        {
            "cell_type": "markdown",
            "metadata": {},
            "source": [
                "Iterando sobre una lista (bucles)"
            ]
        },
        {
            "cell_type": "code",
            "execution_count": 50,
            "metadata": {},
            "outputs": [
                {
                    "name": "stdout",
                    "output_type": "stream",
                    "text": [
                        "3423\n",
                        "5\n",
                        "4\n",
                        "47889\n",
                        "654\n",
                        "8\n",
                        "867543\n",
                        "23\n",
                        "48\n",
                        "56432\n",
                        "55\n",
                        "23\n",
                        "25\n",
                        "12\n"
                    ]
                }
            ],
            "source": [
                "numeros_ = [3423, 5, 4, 47889, 654, 8, 867543, 23, 48, 56432, 55, 23, 25, 12]\n",
                "for number in numeros_:\n",
                "    print(number)"
            ]
        },
        {
            "cell_type": "code",
            "execution_count": 51,
            "metadata": {},
            "outputs": [
                {
                    "name": "stdout",
                    "output_type": "stream",
                    "text": [
                        "La posición es 0 para el elemento Pedro\n",
                        "La posición es 1 para el elemento Chris\n",
                        "La posición es 2 para el elemento Mario\n",
                        "La posición es 3 para el elemento Bob\n"
                    ]
                }
            ],
            "source": [
                "my_list_2 = ['Pedro', 'Chris', 'Mario', 'Bob']\n",
                "\n",
                "for i in range(0, len(my_list_2)):\n",
                "    print(\"La posición es \" + str(i) + \" para el elemento \" + my_list_2[i])"
            ]
        },
        {
            "cell_type": "code",
            "execution_count": 52,
            "metadata": {},
            "outputs": [
                {
                    "name": "stdout",
                    "output_type": "stream",
                    "text": [
                        "La posición es 1 para el elemento Chris\n",
                        "La posición es 3 para el elemento Bob\n",
                        "La posición es 5 para el elemento Kyle\n"
                    ]
                }
            ],
            "source": [
                "my_list = ['Pedro', 'Chris', 'Mario', 'Bob', \"Greg\", \"Kyle\"]\n",
                "\n",
                "for i in range(1, 6, 2):  # range(valor inicial, valor final (no inclusivo), valor incremental)\n",
                "    print(\"La posición es \" + str(i) + \" para el elemento \" + my_list[i])"
            ]
        }
    ],
    "metadata": {
        "kernelspec": {
            "display_name": "Python 3.8.13 64-bit ('3.8.13')",
            "language": "python",
            "name": "python3"
        },
        "language_info": {
            "codemirror_mode": {
                "name": "ipython",
                "version": 3
            },
            "file_extension": ".py",
            "mimetype": "text/x-python",
            "name": "python",
            "nbconvert_exporter": "python",
            "pygments_lexer": "ipython3",
            "version": "3.12.3"
        },
        "orig_nbformat": 4,
        "vscode": {
            "interpreter": {
                "hash": "110cc1dee26208153f2972f08a2ad52b6a56238dc66d48e87fb757ef2996db56"
            }
        }
    },
    "nbformat": 4,
    "nbformat_minor": 2
}
