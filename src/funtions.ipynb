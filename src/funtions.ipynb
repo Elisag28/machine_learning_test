{
    "cells": [
        {
            "cell_type": "markdown",
            "metadata": {},
            "source": [
                "## Funciones"
            ]
        },
        {
            "cell_type": "code",
            "execution_count": 28,
            "metadata": {},
            "outputs": [],
            "source": [
                "import pandas as pd\n",
                "import os"
            ]
        },
        {
            "cell_type": "markdown",
            "metadata": {},
            "source": [
                "Funciones"
            ]
        },
        {
            "cell_type": "code",
            "execution_count": 8,
            "metadata": {},
            "outputs": [],
            "source": [
                "def multiplicar(a, b):\n",
                "    return a * b\n",
                "\n",
                "\n"
            ]
        },
        {
            "cell_type": "markdown",
            "metadata": {},
            "source": [
                "Hola"
            ]
        },
        {
            "cell_type": "code",
            "execution_count": 18,
            "metadata": {},
            "outputs": [
                {
                    "name": "stdout",
                    "output_type": "stream",
                    "text": [
                        "12\n"
                    ]
                }
            ],
            "source": [
                "print(multiplicar(2, 6))"
            ]
        },
        {
            "cell_type": "code",
            "execution_count": 5,
            "metadata": {},
            "outputs": [],
            "source": [
                "mensaje = \"Hola desde el scope global\""
            ]
        },
        {
            "cell_type": "code",
            "execution_count": 20,
            "metadata": {},
            "outputs": [
                {
                    "name": "stdout",
                    "output_type": "stream",
                    "text": [
                        "Hola desde el scope local\n",
                        "Hola desde el scope global\n"
                    ]
                }
            ],
            "source": [
                "def saludar():\n",
                "    mensaje_local = \"Hola desde el scope local\"\n",
                "    print(mensaje_local)\n",
                "    print(mensaje)  # Podemos acceder a la variable global\n",
                "\n",
                "saludar()"
            ]
        },
        {
            "cell_type": "markdown",
            "metadata": {},
            "source": [
                "Funciones Lambda "
            ]
        },
        {
            "cell_type": "code",
            "execution_count": 9,
            "metadata": {},
            "outputs": [
                {
                    "name": "stdout",
                    "output_type": "stream",
                    "text": [
                        "10\n"
                    ]
                }
            ],
            "source": [
                "def multiplicar_por_dos(x):\n",
                "    return x * 2\n",
                "\n",
                "resultado = multiplicar_por_dos(5)\n",
                "print(resultado)"
            ]
        },
        {
            "cell_type": "code",
            "execution_count": 10,
            "metadata": {},
            "outputs": [
                {
                    "name": "stdout",
                    "output_type": "stream",
                    "text": [
                        "10\n"
                    ]
                }
            ],
            "source": [
                "multiplicar_por_dos = lambda x: x * 2\n",
                "\n",
                "resultado_2 = multiplicar_por_dos(5)\n",
                "print(resultado_2) "
            ]
        },
        {
            "cell_type": "markdown",
            "metadata": {},
            "source": [
                "Funciones anidadas"
            ]
        },
        {
            "cell_type": "code",
            "execution_count": 14,
            "metadata": {},
            "outputs": [
                {
                    "name": "stdout",
                    "output_type": "stream",
                    "text": [
                        "16\n"
                    ]
                }
            ],
            "source": [
                "def suma(a, b):\n",
                "   return a + b\n",
                "\n",
                "def multiplicar(a, b):\n",
                "   return a * b\n",
                "\n",
                "resultado = multiplicar(suma(3, 5), suma(1, 1))\n",
                "\n",
                "\n",
                "# Las ejecuciones van de adentro hacia afuera\n",
                "# Primero, se calculará la suma de 3 + 5 y 1 + 1 \n",
                "# A continuación, se multiplicarán sus respectivos resultados \n",
                "primero = suma(3, 5)\n",
                "segundo = suma(1, 1)\n",
                "print(multiplicar(primero, segundo))"
            ]
        },
        {
            "cell_type": "markdown",
            "metadata": {},
            "source": [
                "Recursivas"
            ]
        },
        {
            "cell_type": "code",
            "execution_count": 15,
            "metadata": {},
            "outputs": [
                {
                    "name": "stdout",
                    "output_type": "stream",
                    "text": [
                        "El factorial de 5 es 120\n"
                    ]
                }
            ],
            "source": [
                "def factorial(n):\n",
                "    # Caso base: si n es 0, el factorial de 0 es 1\n",
                "    if n == 0:\n",
                "        return 1\n",
                "    else:\n",
                "        # Caso recursivo: n * factorial de (n-1)\n",
                "        return n * factorial(n - 1)\n",
                "\n",
                "# Ejemplo de uso\n",
                "numero = 5\n",
                "resultado = factorial(numero)\n",
                "print(f\"El factorial de {numero} es {resultado}\")\n"
            ]
        },
        {
            "cell_type": "code",
            "execution_count": 21,
            "metadata": {},
            "outputs": [
                {
                    "name": "stdout",
                    "output_type": "stream",
                    "text": [
                        "100\n"
                    ]
                }
            ],
            "source": [
                "def suma(a, b):\n",
                "    return a + b \n",
                "\n",
                "print(suma(99, 1))"
            ]
        },
        {
            "cell_type": "code",
            "execution_count": 26,
            "metadata": {},
            "outputs": [
                {
                    "name": "stdout",
                    "output_type": "stream",
                    "text": [
                        "hello\n",
                        "None\n"
                    ]
                }
            ],
            "source": [
                "def hola():\n",
                "    print('hello')\n",
                "    return \n",
                "\n",
                "print(hola())"
            ]
        },
        {
            "cell_type": "code",
            "execution_count": 11,
            "metadata": {},
            "outputs": [
                {
                    "ename": "LibrdataError",
                    "evalue": "Invalid file, or file has unsupported features",
                    "output_type": "error",
                    "traceback": [
                        "\u001b[0;31m---------------------------------------------------------------------------\u001b[0m",
                        "\u001b[0;31mLibrdataError\u001b[0m                             Traceback (most recent call last)",
                        "\u001b[1;32m/workspace/machine_learning_test/src/funtions.ipynb Cell 16\u001b[0m line \u001b[0;36m4\n\u001b[1;32m      <a href='vscode-notebook-cell://elisag28-machinelearnin-mh2tsdohxaq.ws-eu114.gitpod.io/workspace/machine_learning_test/src/funtions.ipynb#X21sdnNjb2RlLXJlbW90ZQ%3D%3D?line=1'>2</a>\u001b[0m \u001b[39mimport\u001b[39;00m \u001b[39mpandas\u001b[39;00m \u001b[39mas\u001b[39;00m \u001b[39mpd\u001b[39;00m\n\u001b[1;32m      <a href='vscode-notebook-cell://elisag28-machinelearnin-mh2tsdohxaq.ws-eu114.gitpod.io/workspace/machine_learning_test/src/funtions.ipynb#X21sdnNjb2RlLXJlbW90ZQ%3D%3D?line=2'>3</a>\u001b[0m \u001b[39m# Leer el archivo .rda\u001b[39;00m\n\u001b[0;32m----> <a href='vscode-notebook-cell://elisag28-machinelearnin-mh2tsdohxaq.ws-eu114.gitpod.io/workspace/machine_learning_test/src/funtions.ipynb#X21sdnNjb2RlLXJlbW90ZQ%3D%3D?line=3'>4</a>\u001b[0m result \u001b[39m=\u001b[39m pyreadr\u001b[39m.\u001b[39;49mread_r(\u001b[39m'\u001b[39;49m\u001b[39m../data/raw/Madrid_Sale.rda\u001b[39;49m\u001b[39m'\u001b[39;49m)\n\u001b[1;32m      <a href='vscode-notebook-cell://elisag28-machinelearnin-mh2tsdohxaq.ws-eu114.gitpod.io/workspace/machine_learning_test/src/funtions.ipynb#X21sdnNjb2RlLXJlbW90ZQ%3D%3D?line=5'>6</a>\u001b[0m \u001b[39m# Verificar los nombres de los objetos en el archivo .rda\u001b[39;00m\n\u001b[1;32m      <a href='vscode-notebook-cell://elisag28-machinelearnin-mh2tsdohxaq.ws-eu114.gitpod.io/workspace/machine_learning_test/src/funtions.ipynb#X21sdnNjb2RlLXJlbW90ZQ%3D%3D?line=6'>7</a>\u001b[0m \u001b[39mprint\u001b[39m(result\u001b[39m.\u001b[39mkeys())\n",
                        "File \u001b[0;32m/workspace/.pyenv_mirror/user/current/lib/python3.12/site-packages/pyreadr/pyreadr.py:66\u001b[0m, in \u001b[0;36mread_r\u001b[0;34m(path, use_objects, timezone)\u001b[0m\n\u001b[1;32m     64\u001b[0m \u001b[39mif\u001b[39;00m \u001b[39mnot\u001b[39;00m os\u001b[39m.\u001b[39mpath\u001b[39m.\u001b[39misfile(filename_bytes):\n\u001b[1;32m     65\u001b[0m     \u001b[39mraise\u001b[39;00m PyreadrError(\u001b[39m\"\u001b[39m\u001b[39mFile \u001b[39m\u001b[39m{0}\u001b[39;00m\u001b[39m does not exist!\u001b[39m\u001b[39m\"\u001b[39m\u001b[39m.\u001b[39mformat(filename_bytes))\n\u001b[0;32m---> 66\u001b[0m parser\u001b[39m.\u001b[39;49mparse(filename_bytes)\n\u001b[1;32m     68\u001b[0m result \u001b[39m=\u001b[39m OrderedDict()\n\u001b[1;32m     69\u001b[0m \u001b[39mfor\u001b[39;00m table_index, table \u001b[39min\u001b[39;00m \u001b[39menumerate\u001b[39m(parser\u001b[39m.\u001b[39mtable_data):\n",
                        "File \u001b[0;32m/workspace/.pyenv_mirror/user/current/lib/python3.12/site-packages/pyreadr/librdata.pyx:149\u001b[0m, in \u001b[0;36mpyreadr.librdata.Parser.parse\u001b[0;34m()\u001b[0m\n",
                        "File \u001b[0;32m/workspace/.pyenv_mirror/user/current/lib/python3.12/site-packages/pyreadr/librdata.pyx:178\u001b[0m, in \u001b[0;36mpyreadr.librdata.Parser.parse\u001b[0;34m()\u001b[0m\n",
                        "\u001b[0;31mLibrdataError\u001b[0m: Invalid file, or file has unsupported features"
                    ]
                }
            ],
            "source": [
                "import pyreadr\n",
                "import pandas as pd\n",
                "# Leer el archivo .rda\n",
                "result = pyreadr.read_r('../data/raw/Madrid_Sale.rda')\n",
                "\n",
                "# Verificar los nombres de los objetos en el archivo .rda\n",
                "print(result.keys())\n",
                "\n",
                "# Iterar sobre los objetos y convertir cada uno a un DataFrame de pandas\n",
                "for key in result.keys():\n",
                "    df = result[key]\n",
                "    print(f\"DataFrame con clave {key} cargado\")\n",
                "    # Puedes hacer algo con cada DataFrame, por ejemplo, guardarlos o procesarlos\n",
                "    # Aquí solo mostramos cómo convertirlo a un DataFrame de pandas\n",
                "    df = pd.DataFrame(df)\n",
                "    print(df.head())  # Mostrar las primeras filas del DataFrame"
            ]
        },
        {
            "cell_type": "code",
            "execution_count": 7,
            "metadata": {},
            "outputs": [
                {
                    "data": {
                        "text/html": [
                            "<div>\n",
                            "<style scoped>\n",
                            "    .dataframe tbody tr th:only-of-type {\n",
                            "        vertical-align: middle;\n",
                            "    }\n",
                            "\n",
                            "    .dataframe tbody tr th {\n",
                            "        vertical-align: top;\n",
                            "    }\n",
                            "\n",
                            "    .dataframe thead th {\n",
                            "        text-align: right;\n",
                            "    }\n",
                            "</style>\n",
                            "<table border=\"1\" class=\"dataframe\">\n",
                            "  <thead>\n",
                            "    <tr style=\"text-align: right;\">\n",
                            "      <th></th>\n",
                            "      <th>District</th>\n",
                            "      <th>N_CADASTRE</th>\n",
                            "      <th>N</th>\n",
                            "      <th>CITY</th>\n",
                            "    </tr>\n",
                            "  </thead>\n",
                            "  <tbody>\n",
                            "    <tr>\n",
                            "      <th>0</th>\n",
                            "      <td>1.0</td>\n",
                            "      <td>89467.0</td>\n",
                            "      <td>11630.0</td>\n",
                            "      <td>Madrid</td>\n",
                            "    </tr>\n",
                            "    <tr>\n",
                            "      <th>1</th>\n",
                            "      <td>2.0</td>\n",
                            "      <td>77318.0</td>\n",
                            "      <td>4362.0</td>\n",
                            "      <td>Madrid</td>\n",
                            "    </tr>\n",
                            "    <tr>\n",
                            "      <th>2</th>\n",
                            "      <td>3.0</td>\n",
                            "      <td>57006.0</td>\n",
                            "      <td>3892.0</td>\n",
                            "      <td>Madrid</td>\n",
                            "    </tr>\n",
                            "    <tr>\n",
                            "      <th>3</th>\n",
                            "      <td>4.0</td>\n",
                            "      <td>80666.0</td>\n",
                            "      <td>8096.0</td>\n",
                            "      <td>Madrid</td>\n",
                            "    </tr>\n",
                            "    <tr>\n",
                            "      <th>4</th>\n",
                            "      <td>5.0</td>\n",
                            "      <td>69016.0</td>\n",
                            "      <td>5111.0</td>\n",
                            "      <td>Madrid</td>\n",
                            "    </tr>\n",
                            "    <tr>\n",
                            "      <th>5</th>\n",
                            "      <td>6.0</td>\n",
                            "      <td>82875.0</td>\n",
                            "      <td>5883.0</td>\n",
                            "      <td>Madrid</td>\n",
                            "    </tr>\n",
                            "    <tr>\n",
                            "      <th>6</th>\n",
                            "      <td>7.0</td>\n",
                            "      <td>79250.0</td>\n",
                            "      <td>6301.0</td>\n",
                            "      <td>Madrid</td>\n",
                            "    </tr>\n",
                            "    <tr>\n",
                            "      <th>7</th>\n",
                            "      <td>8.0</td>\n",
                            "      <td>105578.0</td>\n",
                            "      <td>3533.0</td>\n",
                            "      <td>Madrid</td>\n",
                            "    </tr>\n",
                            "    <tr>\n",
                            "      <th>8</th>\n",
                            "      <td>9.0</td>\n",
                            "      <td>57224.0</td>\n",
                            "      <td>3512.0</td>\n",
                            "      <td>Madrid</td>\n",
                            "    </tr>\n",
                            "    <tr>\n",
                            "      <th>9</th>\n",
                            "      <td>10.0</td>\n",
                            "      <td>110214.0</td>\n",
                            "      <td>4715.0</td>\n",
                            "      <td>Madrid</td>\n",
                            "    </tr>\n",
                            "    <tr>\n",
                            "      <th>10</th>\n",
                            "      <td>11.0</td>\n",
                            "      <td>112266.0</td>\n",
                            "      <td>6682.0</td>\n",
                            "      <td>Madrid</td>\n",
                            "    </tr>\n",
                            "    <tr>\n",
                            "      <th>11</th>\n",
                            "      <td>12.0</td>\n",
                            "      <td>56617.0</td>\n",
                            "      <td>2985.0</td>\n",
                            "      <td>Madrid</td>\n",
                            "    </tr>\n",
                            "    <tr>\n",
                            "      <th>12</th>\n",
                            "      <td>13.0</td>\n",
                            "      <td>101259.0</td>\n",
                            "      <td>5756.0</td>\n",
                            "      <td>Madrid</td>\n",
                            "    </tr>\n",
                            "    <tr>\n",
                            "      <th>13</th>\n",
                            "      <td>14.0</td>\n",
                            "      <td>41940.0</td>\n",
                            "      <td>1270.0</td>\n",
                            "      <td>Madrid</td>\n",
                            "    </tr>\n",
                            "    <tr>\n",
                            "      <th>14</th>\n",
                            "      <td>15.0</td>\n",
                            "      <td>103425.0</td>\n",
                            "      <td>5719.0</td>\n",
                            "      <td>Madrid</td>\n",
                            "    </tr>\n",
                            "    <tr>\n",
                            "      <th>15</th>\n",
                            "      <td>16.0</td>\n",
                            "      <td>85666.0</td>\n",
                            "      <td>3494.0</td>\n",
                            "      <td>Madrid</td>\n",
                            "    </tr>\n",
                            "    <tr>\n",
                            "      <th>16</th>\n",
                            "      <td>17.0</td>\n",
                            "      <td>62140.0</td>\n",
                            "      <td>3397.0</td>\n",
                            "      <td>Madrid</td>\n",
                            "    </tr>\n",
                            "    <tr>\n",
                            "      <th>17</th>\n",
                            "      <td>18.0</td>\n",
                            "      <td>49951.0</td>\n",
                            "      <td>2498.0</td>\n",
                            "      <td>Madrid</td>\n",
                            "    </tr>\n",
                            "    <tr>\n",
                            "      <th>18</th>\n",
                            "      <td>19.0</td>\n",
                            "      <td>34594.0</td>\n",
                            "      <td>1201.0</td>\n",
                            "      <td>Madrid</td>\n",
                            "    </tr>\n",
                            "    <tr>\n",
                            "      <th>19</th>\n",
                            "      <td>20.0</td>\n",
                            "      <td>66860.0</td>\n",
                            "      <td>3668.0</td>\n",
                            "      <td>Madrid</td>\n",
                            "    </tr>\n",
                            "    <tr>\n",
                            "      <th>20</th>\n",
                            "      <td>21.0</td>\n",
                            "      <td>22065.0</td>\n",
                            "      <td>1097.0</td>\n",
                            "      <td>Madrid</td>\n",
                            "    </tr>\n",
                            "    <tr>\n",
                            "      <th>21</th>\n",
                            "      <td>1.0</td>\n",
                            "      <td>55995.0</td>\n",
                            "      <td>8372.0</td>\n",
                            "      <td>Barcelona</td>\n",
                            "    </tr>\n",
                            "    <tr>\n",
                            "      <th>22</th>\n",
                            "      <td>2.0</td>\n",
                            "      <td>142134.0</td>\n",
                            "      <td>13936.0</td>\n",
                            "      <td>Barcelona</td>\n",
                            "    </tr>\n",
                            "    <tr>\n",
                            "      <th>23</th>\n",
                            "      <td>3.0</td>\n",
                            "      <td>86008.0</td>\n",
                            "      <td>7241.0</td>\n",
                            "      <td>Barcelona</td>\n",
                            "    </tr>\n",
                            "    <tr>\n",
                            "      <th>24</th>\n",
                            "      <td>4.0</td>\n",
                            "      <td>39300.0</td>\n",
                            "      <td>2359.0</td>\n",
                            "      <td>Barcelona</td>\n",
                            "    </tr>\n",
                            "    <tr>\n",
                            "      <th>25</th>\n",
                            "      <td>5.0</td>\n",
                            "      <td>70689.0</td>\n",
                            "      <td>5058.0</td>\n",
                            "      <td>Barcelona</td>\n",
                            "    </tr>\n",
                            "    <tr>\n",
                            "      <th>26</th>\n",
                            "      <td>6.0</td>\n",
                            "      <td>66565.0</td>\n",
                            "      <td>4398.0</td>\n",
                            "      <td>Barcelona</td>\n",
                            "    </tr>\n",
                            "    <tr>\n",
                            "      <th>27</th>\n",
                            "      <td>7.0</td>\n",
                            "      <td>79467.0</td>\n",
                            "      <td>4467.0</td>\n",
                            "      <td>Barcelona</td>\n",
                            "    </tr>\n",
                            "    <tr>\n",
                            "      <th>28</th>\n",
                            "      <td>8.0</td>\n",
                            "      <td>73877.0</td>\n",
                            "      <td>3523.0</td>\n",
                            "      <td>Barcelona</td>\n",
                            "    </tr>\n",
                            "    <tr>\n",
                            "      <th>29</th>\n",
                            "      <td>9.0</td>\n",
                            "      <td>66745.0</td>\n",
                            "      <td>3600.0</td>\n",
                            "      <td>Barcelona</td>\n",
                            "    </tr>\n",
                            "    <tr>\n",
                            "      <th>30</th>\n",
                            "      <td>10.0</td>\n",
                            "      <td>108960.0</td>\n",
                            "      <td>8375.0</td>\n",
                            "      <td>Barcelona</td>\n",
                            "    </tr>\n",
                            "    <tr>\n",
                            "      <th>31</th>\n",
                            "      <td>1.0</td>\n",
                            "      <td>19806.0</td>\n",
                            "      <td>2620.0</td>\n",
                            "      <td>Valencia</td>\n",
                            "    </tr>\n",
                            "    <tr>\n",
                            "      <th>32</th>\n",
                            "      <td>2.0</td>\n",
                            "      <td>25269.0</td>\n",
                            "      <td>2571.0</td>\n",
                            "      <td>Valencia</td>\n",
                            "    </tr>\n",
                            "    <tr>\n",
                            "      <th>33</th>\n",
                            "      <td>3.0</td>\n",
                            "      <td>27755.0</td>\n",
                            "      <td>2766.0</td>\n",
                            "      <td>Valencia</td>\n",
                            "    </tr>\n",
                            "    <tr>\n",
                            "      <th>34</th>\n",
                            "      <td>4.0</td>\n",
                            "      <td>18810.0</td>\n",
                            "      <td>1413.0</td>\n",
                            "      <td>Valencia</td>\n",
                            "    </tr>\n",
                            "    <tr>\n",
                            "      <th>35</th>\n",
                            "      <td>5.0</td>\n",
                            "      <td>24386.0</td>\n",
                            "      <td>2145.0</td>\n",
                            "      <td>Valencia</td>\n",
                            "    </tr>\n",
                            "    <tr>\n",
                            "      <th>36</th>\n",
                            "      <td>6.0</td>\n",
                            "      <td>15720.0</td>\n",
                            "      <td>1184.0</td>\n",
                            "      <td>Valencia</td>\n",
                            "    </tr>\n",
                            "    <tr>\n",
                            "      <th>37</th>\n",
                            "      <td>7.0</td>\n",
                            "      <td>23956.0</td>\n",
                            "      <td>2429.0</td>\n",
                            "      <td>Valencia</td>\n",
                            "    </tr>\n",
                            "    <tr>\n",
                            "      <th>38</th>\n",
                            "      <td>8.0</td>\n",
                            "      <td>27318.0</td>\n",
                            "      <td>2185.0</td>\n",
                            "      <td>Valencia</td>\n",
                            "    </tr>\n",
                            "    <tr>\n",
                            "      <th>39</th>\n",
                            "      <td>9.0</td>\n",
                            "      <td>25043.0</td>\n",
                            "      <td>2356.0</td>\n",
                            "      <td>Valencia</td>\n",
                            "    </tr>\n",
                            "    <tr>\n",
                            "      <th>40</th>\n",
                            "      <td>10.0</td>\n",
                            "      <td>37005.0</td>\n",
                            "      <td>3010.0</td>\n",
                            "      <td>Valencia</td>\n",
                            "    </tr>\n",
                            "    <tr>\n",
                            "      <th>41</th>\n",
                            "      <td>11.0</td>\n",
                            "      <td>30283.0</td>\n",
                            "      <td>2215.0</td>\n",
                            "      <td>Valencia</td>\n",
                            "    </tr>\n",
                            "    <tr>\n",
                            "      <th>42</th>\n",
                            "      <td>12.0</td>\n",
                            "      <td>32014.0</td>\n",
                            "      <td>1949.0</td>\n",
                            "      <td>Valencia</td>\n",
                            "    </tr>\n",
                            "    <tr>\n",
                            "      <th>43</th>\n",
                            "      <td>13.0</td>\n",
                            "      <td>20455.0</td>\n",
                            "      <td>829.0</td>\n",
                            "      <td>Valencia</td>\n",
                            "    </tr>\n",
                            "    <tr>\n",
                            "      <th>44</th>\n",
                            "      <td>14.0</td>\n",
                            "      <td>15366.0</td>\n",
                            "      <td>728.0</td>\n",
                            "      <td>Valencia</td>\n",
                            "    </tr>\n",
                            "    <tr>\n",
                            "      <th>45</th>\n",
                            "      <td>15.0</td>\n",
                            "      <td>24258.0</td>\n",
                            "      <td>2733.0</td>\n",
                            "      <td>Valencia</td>\n",
                            "    </tr>\n",
                            "    <tr>\n",
                            "      <th>46</th>\n",
                            "      <td>16.0</td>\n",
                            "      <td>22087.0</td>\n",
                            "      <td>2420.0</td>\n",
                            "      <td>Valencia</td>\n",
                            "    </tr>\n",
                            "    <tr>\n",
                            "      <th>47</th>\n",
                            "      <td>17.0</td>\n",
                            "      <td>3446.0</td>\n",
                            "      <td>18.0</td>\n",
                            "      <td>Valencia</td>\n",
                            "    </tr>\n",
                            "    <tr>\n",
                            "      <th>48</th>\n",
                            "      <td>18.0</td>\n",
                            "      <td>7206.0</td>\n",
                            "      <td>20.0</td>\n",
                            "      <td>Valencia</td>\n",
                            "    </tr>\n",
                            "    <tr>\n",
                            "      <th>49</th>\n",
                            "      <td>19.0</td>\n",
                            "      <td>15821.0</td>\n",
                            "      <td>2.0</td>\n",
                            "      <td>Valencia</td>\n",
                            "    </tr>\n",
                            "  </tbody>\n",
                            "</table>\n",
                            "</div>"
                        ],
                        "text/plain": [
                            "    District  N_CADASTRE        N       CITY\n",
                            "0        1.0     89467.0  11630.0     Madrid\n",
                            "1        2.0     77318.0   4362.0     Madrid\n",
                            "2        3.0     57006.0   3892.0     Madrid\n",
                            "3        4.0     80666.0   8096.0     Madrid\n",
                            "4        5.0     69016.0   5111.0     Madrid\n",
                            "5        6.0     82875.0   5883.0     Madrid\n",
                            "6        7.0     79250.0   6301.0     Madrid\n",
                            "7        8.0    105578.0   3533.0     Madrid\n",
                            "8        9.0     57224.0   3512.0     Madrid\n",
                            "9       10.0    110214.0   4715.0     Madrid\n",
                            "10      11.0    112266.0   6682.0     Madrid\n",
                            "11      12.0     56617.0   2985.0     Madrid\n",
                            "12      13.0    101259.0   5756.0     Madrid\n",
                            "13      14.0     41940.0   1270.0     Madrid\n",
                            "14      15.0    103425.0   5719.0     Madrid\n",
                            "15      16.0     85666.0   3494.0     Madrid\n",
                            "16      17.0     62140.0   3397.0     Madrid\n",
                            "17      18.0     49951.0   2498.0     Madrid\n",
                            "18      19.0     34594.0   1201.0     Madrid\n",
                            "19      20.0     66860.0   3668.0     Madrid\n",
                            "20      21.0     22065.0   1097.0     Madrid\n",
                            "21       1.0     55995.0   8372.0  Barcelona\n",
                            "22       2.0    142134.0  13936.0  Barcelona\n",
                            "23       3.0     86008.0   7241.0  Barcelona\n",
                            "24       4.0     39300.0   2359.0  Barcelona\n",
                            "25       5.0     70689.0   5058.0  Barcelona\n",
                            "26       6.0     66565.0   4398.0  Barcelona\n",
                            "27       7.0     79467.0   4467.0  Barcelona\n",
                            "28       8.0     73877.0   3523.0  Barcelona\n",
                            "29       9.0     66745.0   3600.0  Barcelona\n",
                            "30      10.0    108960.0   8375.0  Barcelona\n",
                            "31       1.0     19806.0   2620.0   Valencia\n",
                            "32       2.0     25269.0   2571.0   Valencia\n",
                            "33       3.0     27755.0   2766.0   Valencia\n",
                            "34       4.0     18810.0   1413.0   Valencia\n",
                            "35       5.0     24386.0   2145.0   Valencia\n",
                            "36       6.0     15720.0   1184.0   Valencia\n",
                            "37       7.0     23956.0   2429.0   Valencia\n",
                            "38       8.0     27318.0   2185.0   Valencia\n",
                            "39       9.0     25043.0   2356.0   Valencia\n",
                            "40      10.0     37005.0   3010.0   Valencia\n",
                            "41      11.0     30283.0   2215.0   Valencia\n",
                            "42      12.0     32014.0   1949.0   Valencia\n",
                            "43      13.0     20455.0    829.0   Valencia\n",
                            "44      14.0     15366.0    728.0   Valencia\n",
                            "45      15.0     24258.0   2733.0   Valencia\n",
                            "46      16.0     22087.0   2420.0   Valencia\n",
                            "47      17.0      3446.0     18.0   Valencia\n",
                            "48      18.0      7206.0     20.0   Valencia\n",
                            "49      19.0     15821.0      2.0   Valencia"
                        ]
                    },
                    "execution_count": 7,
                    "metadata": {},
                    "output_type": "execute_result"
                }
            ],
            "source": [
                "df"
            ]
        }
    ],
    "metadata": {
        "kernelspec": {
            "display_name": "Python 3.8.13 64-bit ('3.8.13')",
            "language": "python",
            "name": "python3"
        },
        "language_info": {
            "codemirror_mode": {
                "name": "ipython",
                "version": 3
            },
            "file_extension": ".py",
            "mimetype": "text/x-python",
            "name": "python",
            "nbconvert_exporter": "python",
            "pygments_lexer": "ipython3",
            "version": "3.12.3"
        },
        "orig_nbformat": 4,
        "vscode": {
            "interpreter": {
                "hash": "110cc1dee26208153f2972f08a2ad52b6a56238dc66d48e87fb757ef2996db56"
            }
        }
    },
    "nbformat": 4,
    "nbformat_minor": 2
}
