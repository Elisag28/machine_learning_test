{
 "cells": [
  {
   "cell_type": "markdown",
   "metadata": {},
   "source": [
    "## Listas"
   ]
  },
  {
   "cell_type": "code",
   "execution_count": 1,
   "metadata": {},
   "outputs": [],
   "source": [
    "my_empty_list = []  # Lista vacia\n",
    "my_list = [\"Apple\", \"Orange\", \"Donkey\"]  # La única forma de declarar una lista. Es mutable\n",
    "my_tuple = (\"Apple\", \"Orange\", \"Donkey\")  # Esto no es una lista, es una versión más limitada llamada \"Tupla\". No es mutable\n",
    "my_set = {\"Apple\", \"Orange\", \"Donkey\"}  # Esto no es una lista, es una versión más limitada llamada \"set\" (conjunto)."
   ]
  },
  {
   "cell_type": "code",
   "execution_count": 2,
   "metadata": {},
   "outputs": [
    {
     "name": "stdout",
     "output_type": "stream",
     "text": [
      "{'Apple', 'Orange', 'Donkey'}\n"
     ]
    }
   ],
   "source": [
    "my_set = {\"Apple\", \"Orange\", \"Donkey\", \"Donkey\"} \n",
    "print(my_set)"
   ]
  },
  {
   "cell_type": "code",
   "execution_count": 3,
   "metadata": {},
   "outputs": [
    {
     "name": "stdout",
     "output_type": "stream",
     "text": [
      "conjunto:  {1, 2, 3, 4, 5}\n",
      "lista sin duplicados:  [1, 2, 3, 4, 5]\n"
     ]
    }
   ],
   "source": [
    "lista = [1, 2, 2, 3, 4, 4, 5]\n",
    "conjunto = set(lista) # quita los duplicados\n",
    "lista_sin_duplicados = list(conjunto)\n",
    "\n",
    "\n",
    "print('conjunto: ', conjunto)\n",
    "print('lista sin duplicados: ', lista_sin_duplicados)"
   ]
  },
  {
   "cell_type": "markdown",
   "metadata": {},
   "source": [
    "Acceder a un elemento de la lista"
   ]
  },
  {
   "cell_type": "code",
   "execution_count": 4,
   "metadata": {},
   "outputs": [
    {
     "name": "stdout",
     "output_type": "stream",
     "text": [
      "Primer elemento de la lista: Apple\n",
      "Tercer elemento de la lista: Donkey\n",
      "Último elemento de la lista: Donkey\n",
      "Último elemento de la lista: Donkey\n"
     ]
    }
   ],
   "source": [
    "my_list = [\"Apple\", \"Orange\", \"Donkey\"]\n",
    "\n",
    "print(f'Primer elemento de la lista: {my_list[0]}')  # Esto imprimirá el 1er elemento en la consola\n",
    "\n",
    "aux = my_list[2]\n",
    "print('Tercer elemento de la lista:', aux)  # Esto imprimirá el 3er elemento en la consola\n",
    "\n",
    "print('Último elemento de la lista:', my_list[len(my_list) - 1])  # Esto imprimirá el último elemento en la consola\n",
    "\n",
    "print(f'Último elemento de la lista: {my_list[-1]}')  # Tambien imprimirá el último elemento"
   ]
  },
  {
   "cell_type": "markdown",
   "metadata": {},
   "source": [
    "Agregar/actualizar elementos a una lista"
   ]
  },
  {
   "cell_type": "code",
   "execution_count": 5,
   "metadata": {},
   "outputs": [
    {
     "data": {
      "text/plain": [
       "['Apple', 'Orange', 'Banana']"
      ]
     },
     "execution_count": 5,
     "metadata": {},
     "output_type": "execute_result"
    }
   ],
   "source": [
    "my_list[2] = 'Banana'\n",
    "# Esto actualizará el valor 'Banana' en el 3er elemento de la lista\n",
    "my_list"
   ]
  },
  {
   "cell_type": "code",
   "execution_count": 6,
   "metadata": {},
   "outputs": [
    {
     "data": {
      "text/plain": [
       "['Apple', 'Orange', 'Banana', 'Pear']"
      ]
     },
     "execution_count": 6,
     "metadata": {},
     "output_type": "execute_result"
    }
   ],
   "source": [
    "my_list.append('Pear')\n",
    "# Esto agregará el valor 'Pear' secuencialmente en la lista\n",
    "my_list"
   ]
  },
  {
   "cell_type": "code",
   "execution_count": 7,
   "metadata": {},
   "outputs": [
    {
     "name": "stdout",
     "output_type": "stream",
     "text": [
      "[0, 1, 2, 3, 4]\n"
     ]
    }
   ],
   "source": [
    "lista_0 = []\n",
    "for i in range(5):\n",
    "    lista_0.append(i)\n",
    "print(lista_0)"
   ]
  },
  {
   "cell_type": "code",
   "execution_count": 8,
   "metadata": {},
   "outputs": [
    {
     "name": "stdout",
     "output_type": "stream",
     "text": [
      "['a', 0, 1, 2, 3, 4]\n"
     ]
    }
   ],
   "source": [
    "lista_0.insert(0, 'a')  # Inserta 'a' en la posición 0\n",
    "print(lista_0)"
   ]
  },
  {
   "cell_type": "code",
   "execution_count": 9,
   "metadata": {},
   "outputs": [
    {
     "name": "stdout",
     "output_type": "stream",
     "text": [
      "['a', 0, 1, 2, 3, 4, 5, 6, 7]\n"
     ]
    }
   ],
   "source": [
    "lista_0.extend([5, 6, 7])\n",
    "print(lista_0)"
   ]
  },
  {
   "cell_type": "markdown",
   "metadata": {},
   "source": [
    "Eliminar elementos"
   ]
  },
  {
   "cell_type": "code",
   "execution_count": 10,
   "metadata": {},
   "outputs": [
    {
     "name": "stdout",
     "output_type": "stream",
     "text": [
      "['Pedro', 'Chris', 'Juan']\n"
     ]
    }
   ],
   "source": [
    "names = ['Pedro', 'Chris', 'Juan', 'Maria']\n",
    "names.pop()\n",
    "print(names)"
   ]
  },
  {
   "cell_type": "code",
   "execution_count": 11,
   "metadata": {},
   "outputs": [
    {
     "name": "stdout",
     "output_type": "stream",
     "text": [
      "['Pedro', 'Juan']\n"
     ]
    }
   ],
   "source": [
    "names.remove('Chris')\n",
    "print(names)"
   ]
  },
  {
   "cell_type": "code",
   "execution_count": 12,
   "metadata": {},
   "outputs": [
    {
     "name": "stdout",
     "output_type": "stream",
     "text": [
      "['Pedro', 'Chris', 'Mario', 'Bob']\n"
     ]
    }
   ],
   "source": [
    "names = ['Pedro', 'Chris', 'Juan', 'Maria', 'Pepe', 'Mario', 'Bob']\n",
    "del names[2:5]\n",
    "# elimina del 2 al 4\n",
    "print(names)"
   ]
  },
  {
   "cell_type": "markdown",
   "metadata": {},
   "source": [
    "Iterando sobre una lista (bucles)"
   ]
  },
  {
   "cell_type": "code",
   "execution_count": 13,
   "metadata": {},
   "outputs": [
    {
     "name": "stdout",
     "output_type": "stream",
     "text": [
      "3423\n",
      "5\n",
      "4\n",
      "47889\n",
      "654\n",
      "8\n",
      "867543\n",
      "23\n",
      "48\n",
      "56432\n",
      "55\n",
      "23\n",
      "25\n",
      "12\n"
     ]
    }
   ],
   "source": [
    "numeros_ = [3423, 5, 4, 47889, 654, 8, 867543, 23, 48, 56432, 55, 23, 25, 12]\n",
    "for number in numeros_:\n",
    "    print(number)"
   ]
  },
  {
   "cell_type": "code",
   "execution_count": 14,
   "metadata": {},
   "outputs": [
    {
     "name": "stdout",
     "output_type": "stream",
     "text": [
      "La posición es 0 para el elemento Pedro\n",
      "La posición es 1 para el elemento Chris\n",
      "La posición es 2 para el elemento Mario\n",
      "La posición es 3 para el elemento Bob\n",
      "La posición es 4 para el elemento Greg\n",
      "La posición es 5 para el elemento Kyle\n"
     ]
    }
   ],
   "source": [
    "my_list = ['Pedro', 'Chris', 'Mario', 'Bob', \"Greg\", \"Kyle\"]\n",
    "\n",
    "for i in range(0, len(my_list)):\n",
    "    print(\"La posición es \" + str(i) + \" para el elemento \" + my_list[i])"
   ]
  },
  {
   "cell_type": "code",
   "execution_count": 15,
   "metadata": {},
   "outputs": [
    {
     "name": "stdout",
     "output_type": "stream",
     "text": [
      "La posición es 1 para el elemento Chris\n",
      "La posición es 3 para el elemento Bob\n",
      "La posición es 5 para el elemento Kyle\n"
     ]
    }
   ],
   "source": [
    "my_list = ['Pedro', 'Chris', 'Mario', 'Bob', \"Greg\", \"Kyle\"]\n",
    "\n",
    "for i in range(1, 6, 2):  # range(valor inicial, valor final (no inclusivo), valor incremental)\n",
    "    print(f'La posición es {i} para el elemento {my_list[i]}')"
   ]
  },
  {
   "cell_type": "markdown",
   "metadata": {},
   "source": [
    "Nested list"
   ]
  },
  {
   "cell_type": "code",
   "execution_count": 16,
   "metadata": {},
   "outputs": [
    {
     "name": "stdout",
     "output_type": "stream",
     "text": [
      "Tercera posición de la primera lista: 16\n",
      "Tercera posición de la segunda lista: Abel\n",
      "Primera posición de la tercera lista: True\n"
     ]
    }
   ],
   "source": [
    "list_in_list = [[22, 14, 16], [\"Joe\", \"Sam\", \"Abel\"], [True, False, True]]\n",
    "\n",
    "print(f'Tercera posición de la primera lista: {list_in_list[0][2]}')\n",
    "print(f'Tercera posición de la segunda lista: {list_in_list[1][2]}')\n",
    "print(f'Primera posición de la tercera lista: {list_in_list[2][0]}')"
   ]
  },
  {
   "cell_type": "markdown",
   "metadata": {},
   "source": [
    "Otros métodos útiles"
   ]
  },
  {
   "cell_type": "code",
   "execution_count": 17,
   "metadata": {},
   "outputs": [
    {
     "name": "stdout",
     "output_type": "stream",
     "text": [
      "Longitud de la lista: 7\n"
     ]
    }
   ],
   "source": [
    "numeros = [5, 3, 8, 6, 3, 9, 1]\n",
    "\n",
    "# len(): Obtener la longitud de la lista\n",
    "longitud = len(numeros)\n",
    "print(f\"Longitud de la lista: {longitud}\") \n"
   ]
  },
  {
   "cell_type": "code",
   "execution_count": 18,
   "metadata": {},
   "outputs": [
    {
     "name": "stdout",
     "output_type": "stream",
     "text": [
      "Índice del primer 3: 1\n",
      "Índice del 8: 2\n",
      "Índice del segundo 3: 4\n"
     ]
    }
   ],
   "source": [
    "# index(): Encontrar el índice del primer elemento con el valor 3\n",
    "indice_3 = numeros.index(3)\n",
    "indice_segundo_3 = numeros.index(3, indice_3 +1)\n",
    "\n",
    "print(f\"Índice del primer 3: {indice_3}\")\n",
    "print(f'Índice del 8: {numeros.index(8)}')\n",
    "print(f\"Índice del segundo 3: {indice_segundo_3}\")"
   ]
  },
  {
   "cell_type": "code",
   "execution_count": 19,
   "metadata": {},
   "outputs": [
    {
     "name": "stdout",
     "output_type": "stream",
     "text": [
      "El número 3 aparece 2 veces\n"
     ]
    }
   ],
   "source": [
    "# count(): Contar cuántas veces aparece el valor 3 en la lista\n",
    "conteo_3 = numeros.count(3)\n",
    "print(f\"El número 3 aparece {conteo_3} veces\")"
   ]
  },
  {
   "cell_type": "code",
   "execution_count": null,
   "metadata": {},
   "outputs": [
    {
     "name": "stdout",
     "output_type": "stream",
     "text": [
      "Lista ordenada: [1, 3, 3, 5, 6, 8, 9]\n"
     ]
    }
   ],
   "source": [
    "# sort(): Ordenar la lista en orden ascendente\n",
    "numeros.sort()\n",
    "print(f\"Lista ordenada: {numeros}\")"
   ]
  },
  {
   "cell_type": "code",
   "execution_count": 21,
   "metadata": {},
   "outputs": [
    {
     "name": "stdout",
     "output_type": "stream",
     "text": [
      "Lista invertida: [9, 8, 6, 5, 3, 3, 1]\n"
     ]
    }
   ],
   "source": [
    "# reverse(): Invertir el orden de los elementos en la lista\n",
    "numeros.reverse()\n",
    "print(f\"Lista invertida: {numeros}\")"
   ]
  },
  {
   "cell_type": "code",
   "execution_count": 26,
   "metadata": {},
   "outputs": [
    {
     "name": "stdout",
     "output_type": "stream",
     "text": [
      "Sublista desde el índice 2 hasta el 5 (exclusivo): [6, 5, 3]\n"
     ]
    }
   ],
   "source": [
    "# slice(): Obtener una sublista desde el índice 2 hasta el índice 5 (exclusivo)\n",
    "sublista = numeros[2:5]\n",
    "print(f\"Sublista desde el índice 2 hasta el 5 (exclusivo): {sublista}\")"
   ]
  },
  {
   "cell_type": "markdown",
   "metadata": {},
   "source": [
    "Avanzado"
   ]
  },
  {
   "cell_type": "code",
   "execution_count": 23,
   "metadata": {},
   "outputs": [
    {
     "name": "stdout",
     "output_type": "stream",
     "text": [
      "[1, 4, 9, 16, 25, 36, 49, 64, 81, 100]\n"
     ]
    }
   ],
   "source": [
    "cuadrados = []\n",
    "for x in range(1, 11):\n",
    "    cuadrados.append(x**2)\n",
    "print(cuadrados)"
   ]
  },
  {
   "cell_type": "code",
   "execution_count": 24,
   "metadata": {},
   "outputs": [
    {
     "name": "stdout",
     "output_type": "stream",
     "text": [
      "[1, 4, 9, 16, 25, 36, 49, 64, 81, 100]\n"
     ]
    }
   ],
   "source": [
    "cuadrados_ = [x**2 for x in range(1, 11)]\n",
    "print(cuadrados_)"
   ]
  }
 ],
 "metadata": {
  "kernelspec": {
   "display_name": "Python 3",
   "language": "python",
   "name": "python3"
  },
  "language_info": {
   "codemirror_mode": {
    "name": "ipython",
    "version": 3
   },
   "file_extension": ".py",
   "mimetype": "text/x-python",
   "name": "python",
   "nbconvert_exporter": "python",
   "pygments_lexer": "ipython3",
   "version": "3.10.12"
  },
  "orig_nbformat": 4
 },
 "nbformat": 4,
 "nbformat_minor": 2
}
